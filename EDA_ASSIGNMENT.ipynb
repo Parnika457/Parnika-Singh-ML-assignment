{
  "nbformat": 4,
  "nbformat_minor": 0,
  "metadata": {
    "colab": {
      "provenance": [],
      "include_colab_link": true
    },
    "kernelspec": {
      "name": "python3",
      "display_name": "Python 3"
    },
    "language_info": {
      "name": "python"
    }
  },
  "cells": [
    {
      "cell_type": "markdown",
      "metadata": {
        "id": "view-in-github",
        "colab_type": "text"
      },
      "source": [
        "<a href=\"https://colab.research.google.com/github/Parnika457/Parnika-Singh-ML-assignment/blob/master/EDA_ASSIGNMENT.ipynb\" target=\"_parent\"><img src=\"https://colab.research.google.com/assets/colab-badge.svg\" alt=\"Open In Colab\"/></a>"
      ]
    },
    {
      "cell_type": "markdown",
      "source": [
        "#EDA"
      ],
      "metadata": {
        "id": "67ZNXN8OF79T"
      }
    },
    {
      "cell_type": "markdown",
      "source": [
        "Hi everyone, This is your first assignment for week 1...\n",
        "So in this assignment you have to perform EDA on the below dataset.\n",
        "The problem statements are given below.\n",
        "Just write a code for them..."
      ],
      "metadata": {
        "id": "IIfMYAslGDhk"
      }
    },
    {
      "cell_type": "code",
      "execution_count": null,
      "metadata": {
        "colab": {
          "base_uri": "https://localhost:8080/"
        },
        "id": "MC89QfHwiMFp",
        "outputId": "15697389-8f73-4c01-bcea-b42aed778613"
      },
      "outputs": [
        {
          "output_type": "stream",
          "name": "stdout",
          "text": [
            "--2023-09-09 13:43:50--  https://www.kaggle.com/datasets/aestheteaman01/zomato-restaurants-in-delhi-ncr\n",
            "Resolving www.kaggle.com (www.kaggle.com)... 35.244.233.98\n",
            "Connecting to www.kaggle.com (www.kaggle.com)|35.244.233.98|:443... connected.\n",
            "HTTP request sent, awaiting response... 200 OK\n",
            "Length: unspecified [text/html]\n",
            "Saving to: ‘zomato-restaurants-in-delhi-ncr’\n",
            "\n",
            "zomato-restaurants-     [ <=>                ]  15.94K  --.-KB/s    in 0.001s  \n",
            "\n",
            "2023-09-09 13:43:50 (23.8 MB/s) - ‘zomato-restaurants-in-delhi-ncr’ saved [16322]\n",
            "\n"
          ]
        }
      ],
      "source": [
        "!wget https://www.kaggle.com/datasets/aestheteaman01/zomato-restaurants-in-delhi-ncr\n"
      ]
    },
    {
      "cell_type": "markdown",
      "source": [
        "Q1.Are there any null values in the dataset?if yes then fill them.."
      ],
      "metadata": {
        "id": "HtvWYJz-GfqA"
      }
    },
    {
      "cell_type": "code",
      "source": [
        "import pandas as pd\n",
        "import numpy as np\n",
        "\n",
        "import matplotlib.pyplot as plt\n",
        "import seaborn as sns\n",
        "\n",
        "import warnings\n",
        "warnings.filterwarnings(\"ignore\")\n",
        "\n",
        "data=pd.read_csv(\"hello.csv\")\n",
        "data.isnull().sum()"
      ],
      "metadata": {
        "id": "s-on8iKJGhbW",
        "colab": {
          "base_uri": "https://localhost:8080/"
        },
        "outputId": "651026a9-5eda-4ed0-85ee-af5dd55ae5b6"
      },
      "execution_count": 39,
      "outputs": [
        {
          "output_type": "execute_result",
          "data": {
            "text/plain": [
              "Restaurant_Name            0\n",
              "Category                   0\n",
              "Pricing_for_2              0\n",
              "Locality                   0\n",
              "Dining_Rating              0\n",
              "Dining_Review_Count        0\n",
              "Delivery_Rating          402\n",
              "Delivery_Rating_Count      0\n",
              "Website                    0\n",
              "Address                    0\n",
              "Phone_No                   0\n",
              "Latitude                   0\n",
              "Longitude                  0\n",
              "Known_For2               405\n",
              "Known_For22              841\n",
              "dtype: int64"
            ]
          },
          "metadata": {},
          "execution_count": 39
        }
      ]
    },
    {
      "cell_type": "code",
      "source": [
        "data[\"Delivery_Rating\"].value_counts()\n",
        "data[\"Delivery_Rating\"]=data[\"Delivery_Rating\"].fillna(value=3.9)\n",
        "data[\"Known_For2\"].value_counts()\n",
        "data[\"Known_For2\"]=data[\"Known_For2\"].fillna(value=\"Get a complimentary night, earn up to 50% of spends as points at 250+ restaurants & much more\")\n",
        "data[\"Known_For22\"].value_counts()\n",
        "data[\"Known_For22\"]=data[\"Known_For22\"].fillna(value=\"Pretty Decor, Perfect Presentation, Tamper Proof Packaging, Worth the Money, Packing, Food Quality\")\n",
        "data.isnull().sum()"
      ],
      "metadata": {
        "id": "-EdL8qF1GhFy",
        "colab": {
          "base_uri": "https://localhost:8080/"
        },
        "outputId": "6b4ac581-86f5-4699-bcb4-8cbe3b692658"
      },
      "execution_count": 40,
      "outputs": [
        {
          "output_type": "execute_result",
          "data": {
            "text/plain": [
              "Restaurant_Name          0\n",
              "Category                 0\n",
              "Pricing_for_2            0\n",
              "Locality                 0\n",
              "Dining_Rating            0\n",
              "Dining_Review_Count      0\n",
              "Delivery_Rating          0\n",
              "Delivery_Rating_Count    0\n",
              "Website                  0\n",
              "Address                  0\n",
              "Phone_No                 0\n",
              "Latitude                 0\n",
              "Longitude                0\n",
              "Known_For2               0\n",
              "Known_For22              0\n",
              "dtype: int64"
            ]
          },
          "metadata": {},
          "execution_count": 40
        }
      ]
    },
    {
      "cell_type": "markdown",
      "source": [
        "Q2.Which restaurant is the best one having ratings more than 4.5 for delivery\n"
      ],
      "metadata": {
        "id": "Ws9ZK5OdGiKG"
      }
    },
    {
      "cell_type": "code",
      "source": [
        "#data.drop([\"Pricing_for_2\",\"Locality\",\"Website\",\"Address\",\"Phone_No\",\"Latitude\",\"Longitude\",\"Known_For2\",\"Known_For22\"],axis=1,inplace=True)\n",
        "y=data['Delivery_Rating'].value_counts()\n",
        "y"
      ],
      "metadata": {
        "id": "VXN9t9ZsGrJz",
        "colab": {
          "base_uri": "https://localhost:8080/"
        },
        "outputId": "eb746288-9519-4de0-e112-e7e6e2b1092f"
      },
      "execution_count": 41,
      "outputs": [
        {
          "output_type": "execute_result",
          "data": {
            "text/plain": [
              "3.9    706\n",
              "4.0    264\n",
              "4.1    253\n",
              "4.2    177\n",
              "3.8    140\n",
              "4.3    135\n",
              "3.7     99\n",
              "3.6     60\n",
              "3.5     50\n",
              "4.4     26\n",
              "3.4     20\n",
              "3.3     11\n",
              "4.5      8\n",
              "3.2      6\n",
              "3.1      5\n",
              "3.0      3\n",
              "2.8      1\n",
              "2.9      1\n",
              "Name: Delivery_Rating, dtype: int64"
            ]
          },
          "metadata": {},
          "execution_count": 41
        }
      ]
    },
    {
      "cell_type": "code",
      "source": [
        "data['Delivery_Rating']=data['Delivery_Rating'].apply(float)\n",
        "a=data['Restaurant_Name'][(data['Delivery_Rating']>=4.5)]\n",
        "plt.figure(figsize=(15,7))\n",
        "sns.barplot(x=a,y='Delivery_Rating',data=data)"
      ],
      "metadata": {
        "id": "eNld5uAoGq_o",
        "colab": {
          "base_uri": "https://localhost:8080/",
          "height": 458
        },
        "outputId": "bb6379e0-44fd-4b6c-ace6-79bb41bb58f2"
      },
      "execution_count": 42,
      "outputs": [
        {
          "output_type": "execute_result",
          "data": {
            "text/plain": [
              "<Axes: xlabel='Restaurant_Name', ylabel='Delivery_Rating'>"
            ]
          },
          "metadata": {},
          "execution_count": 42
        },
        {
          "output_type": "display_data",
          "data": {
            "text/plain": [
              "<Figure size 1500x700 with 1 Axes>"
            ],
            "image/png": "[encoded data removed]"
          },
          "metadata": {}
        }
      ]
    },
    {
      "cell_type": "markdown",
      "source": [
        "\n",
        "Q3.What type of food is most preffered by the customers?"
      ],
      "metadata": {
        "id": "6zt-dhyBGrkf"
      }
    },
    {
      "cell_type": "markdown",
      "source": [
        "Ans: North Indian"
      ],
      "metadata": {
        "id": "WT5EmKpP9Ql7"
      }
    },
    {
      "cell_type": "code",
      "source": [
        "data['Category'].value_counts()"
      ],
      "metadata": {
        "id": "BkffosE6Gtza",
        "colab": {
          "base_uri": "https://localhost:8080/"
        },
        "outputId": "6d5d20bd-3b0b-4927-e66c-b09778c3753c"
      },
      "execution_count": 44,
      "outputs": [
        {
          "output_type": "execute_result",
          "data": {
            "text/plain": [
              "North Indian                                                      88\n",
              "North Indian, Chinese                                             39\n",
              "North Indian, Mughlai                                             37\n",
              "Pizza, Fast Food                                                  19\n",
              "North Indian, Chinese, Mughlai                                    17\n",
              "                                                                  ..\n",
              "North Indian, Kebab, Mughlai, Biryani, Beverages                   1\n",
              "North Indian, Continental, Italian, Chinese                        1\n",
              "North Indian, Continental, Asian, Chinese                          1\n",
              "Afghan, Iranian, Awadhi, Beverages                                 1\n",
              "Cafe, North Indian, Chinese, Kashmiri, Rolls, Pizza, Beverages     1\n",
              "Name: Category, Length: 1355, dtype: int64"
            ]
          },
          "metadata": {},
          "execution_count": 44
        }
      ]
    },
    {
      "cell_type": "code",
      "source": [
        "x=data['Category'].value_counts()\n",
        "sns.countplot(x=data['Category'])"
      ],
      "metadata": {
        "id": "MDLra2gLGtoW",
        "colab": {
          "base_uri": "https://localhost:8080/",
          "height": 390
        },
        "outputId": "19bdf6b0-80b5-456d-be8a-750b03edb3f1"
      },
      "execution_count": 45,
      "outputs": [
        {
          "output_type": "execute_result",
          "data": {
            "text/plain": [
              "<Axes: xlabel='Category', ylabel='count'>"
            ]
          },
          "metadata": {},
          "execution_count": 45
        },
        {
          "output_type": "display_data",
          "data": {
            "text/plain": [
              "<Figure size 640x480 with 1 Axes>"
            ],
            "image/png": "[encoded data removed]"
          },
          "metadata": {}
        }
      ]
    },
    {
      "cell_type": "markdown",
      "source": [
        "Q4.How many people prefer delivery rather than dining ?"
      ],
      "metadata": {
        "id": "h3foQEmEGvxQ"
      }
    },
    {
      "cell_type": "code",
      "source": [
        "y=data['Delivery_Rating_Count'].sum()\n",
        "y2=data['Dining_Review_Count'].sum()\n",
        "y-y2#People who prefer delivery rather than dining."
      ],
      "metadata": {
        "id": "1Ph57fW1Gx5m",
        "colab": {
          "base_uri": "https://localhost:8080/"
        },
        "outputId": "6f8cea28-acd2-42be-d6aa-8dbe0be35d67"
      },
      "execution_count": 46,
      "outputs": [
        {
          "output_type": "execute_result",
          "data": {
            "text/plain": [
              "4534427"
            ]
          },
          "metadata": {},
          "execution_count": 46
        }
      ]
    },
    {
      "cell_type": "code",
      "source": [
        "x_axis=data['Delivery_Rating']\n",
        "y_axis=data['Delivery_Rating_Count']\n",
        "x2_axis=data['Dining_Rating']\n",
        "y2_axis=data['Dining_Review_Count']\n",
        "plt.scatter(x_axis,y_axis,c='red')\n",
        "plt.scatter(x2_axis,y2_axis)\n",
        "\n",
        "plt.show()"
      ],
      "metadata": {
        "id": "bpZjm6WRGxv5",
        "colab": {
          "base_uri": "https://localhost:8080/",
          "height": 430
        },
        "outputId": "e9080a40-5ab3-4274-80fc-68d3831c7458"
      },
      "execution_count": 47,
      "outputs": [
        {
          "output_type": "display_data",
          "data": {
            "text/plain": [
              "<Figure size 640x480 with 1 Axes>"
            ],
            "image/png": "[encoded data removed]"
          },
          "metadata": {}
        }
      ]
    },
    {
      "cell_type": "markdown",
      "source": [
        "Q5.Which restaurant is the best one having ratings more than 4.5 for dining?"
      ],
      "metadata": {
        "id": "q6oUmSnmGynu"
      }
    },
    {
      "cell_type": "code",
      "source": [
        "b=data['Restaurant_Name'][(data['Dining_Rating']>=4.5)]\n",
        "c=data[['Restaurant_Name','Dining_Review_Count']][(data['Dining_Rating']>=4.5)].sort_values('Dining_Review_Count')\n",
        "c"
      ],
      "metadata": {
        "id": "VBoWONZkE5-t",
        "colab": {
          "base_uri": "https://localhost:8080/",
          "height": 423
        },
        "outputId": "a57a2112-70d8-4ebb-baf4-474ceed179e9"
      },
      "execution_count": 48,
      "outputs": [
        {
          "output_type": "execute_result",
          "data": {
            "text/plain": [
              "                          Restaurant_Name  Dining_Review_Count\n",
              "42                     Echoes Living Room                    3\n",
              "165                   Only Bar Restaurant                   91\n",
              "93                                   Rooh                  247\n",
              "152  The Haven International Coffee House                  282\n",
              "158                         Little Saigon                  440\n",
              "..                                    ...                  ...\n",
              "89                   The Drunken Botanist                 6302\n",
              "4                           The Big Chill                 6487\n",
              "20                                 Gulati                 6509\n",
              "51              AB's - Absolute Barbecues                 8002\n",
              "54                        Saravana Bhavan                 8305\n",
              "\n",
              "[166 rows x 2 columns]"
            ],
            "text/html": [
              "\n",
              "  <div id=\"df-f30e2440-7477-47df-938d-b461b3bb0dd6\" class=\"colab-df-container\">\n",
              "    <div>\n",
              "<style scoped>\n",
              "    .dataframe tbody tr th:only-of-type {\n",
              "        vertical-align: middle;\n",
              "    }\n",
              "\n",
              "    .dataframe tbody tr th {\n",
              "        vertical-align: top;\n",
              "    }\n",
              "\n",
              "    .dataframe thead th {\n",
              "        text-align: right;\n",
              "    }\n",
              "</style>\n",
              "<table border=\"1\" class=\"dataframe\">\n",
              "  <thead>\n",
              "    <tr style=\"text-align: right;\">\n",
              "      <th></th>\n",
              "      <th>Restaurant_Name</th>\n",
              "      <th>Dining_Review_Count</th>\n",
              "    </tr>\n",
              "  </thead>\n",
              "  <tbody>\n",
              "    <tr>\n",
              "      <th>42</th>\n",
              "      <td>Echoes Living Room</td>\n",
              "      <td>3</td>\n",
              "    </tr>\n",
              "    <tr>\n",
              "      <th>165</th>\n",
              "      <td>Only Bar Restaurant</td>\n",
              "      <td>91</td>\n",
              "    </tr>\n",
              "    <tr>\n",
              "      <th>93</th>\n",
              "      <td>Rooh</td>\n",
              "      <td>247</td>\n",
              "    </tr>\n",
              "    <tr>\n",
              "      <th>152</th>\n",
              "      <td>The Haven International Coffee House</td>\n",
              "      <td>282</td>\n",
              "    </tr>\n",
              "    <tr>\n",
              "      <th>158</th>\n",
              "      <td>Little Saigon</td>\n",
              "      <td>440</td>\n",
              "    </tr>\n",
              "    <tr>\n",
              "      <th>...</th>\n",
              "      <td>...</td>\n",
              "      <td>...</td>\n",
              "    </tr>\n",
              "    <tr>\n",
              "      <th>89</th>\n",
              "      <td>The Drunken Botanist</td>\n",
              "      <td>6302</td>\n",
              "    </tr>\n",
              "    <tr>\n",
              "      <th>4</th>\n",
              "      <td>The Big Chill</td>\n",
              "      <td>6487</td>\n",
              "    </tr>\n",
              "    <tr>\n",
              "      <th>20</th>\n",
              "      <td>Gulati</td>\n",
              "      <td>6509</td>\n",
              "    </tr>\n",
              "    <tr>\n",
              "      <th>51</th>\n",
              "      <td>AB's - Absolute Barbecues</td>\n",
              "      <td>8002</td>\n",
              "    </tr>\n",
              "    <tr>\n",
              "      <th>54</th>\n",
              "      <td>Saravana Bhavan</td>\n",
              "      <td>8305</td>\n",
              "    </tr>\n",
              "  </tbody>\n",
              "</table>\n",
              "<p>166 rows × 2 columns</p>\n",
              "</div>\n",
              "    <div class=\"colab-df-buttons\">\n",
              "\n",
              "  <div class=\"colab-df-container\">\n",
              "    <button class=\"colab-df-convert\" onclick=\"convertToInteractive('df-f30e2440-7477-47df-938d-b461b3bb0dd6')\"\n",
              "            title=\"Convert this dataframe to an interactive table.\"\n",
              "            style=\"display:none;\">\n",
              "\n",
              "  <svg xmlns=\"http://www.w3.org/2000/svg\" height=\"24px\" viewBox=\"0 -960 960 960\">\n",
              "    <path d=\"M120-120v-720h720v720H120Zm60-500h600v-160H180v160Zm220 220h160v-160H400v160Zm0 220h160v-160H400v160ZM180-400h160v-160H180v160Zm440 0h160v-160H620v160ZM180-180h160v-160H180v160Zm440 0h160v-160H620v160Z\"/>\n",
              "  </svg>\n",
              "    </button>\n",
              "\n",
              "  <style>\n",
              "    .colab-df-container {\n",
              "      display:flex;\n",
              "      gap: 12px;\n",
              "    }\n",
              "\n",
              "    .colab-df-convert {\n",
              "      background-color: #E8F0FE;\n",
              "      border: none;\n",
              "      border-radius: 50%;\n",
              "      cursor: pointer;\n",
              "      display: none;\n",
              "      fill: #1967D2;\n",
              "      height: 32px;\n",
              "      padding: 0 0 0 0;\n",
              "      width: 32px;\n",
              "    }\n",
              "\n",
              "    .colab-df-convert:hover {\n",
              "      background-color: #E2EBFA;\n",
              "      box-shadow: 0px 1px 2px rgba(60, 64, 67, 0.3), 0px 1px 3px 1px rgba(60, 64, 67, 0.15);\n",
              "      fill: #174EA6;\n",
              "    }\n",
              "\n",
              "    .colab-df-buttons div {\n",
              "      margin-bottom: 4px;\n",
              "    }\n",
              "\n",
              "    [theme=dark] .colab-df-convert {\n",
              "      background-color: #3B4455;\n",
              "      fill: #D2E3FC;\n",
              "    }\n",
              "\n",
              "    [theme=dark] .colab-df-convert:hover {\n",
              "      background-color: #434B5C;\n",
              "      box-shadow: 0px 1px 3px 1px rgba(0, 0, 0, 0.15);\n",
              "      filter: drop-shadow(0px 1px 2px rgba(0, 0, 0, 0.3));\n",
              "      fill: #FFFFFF;\n",
              "    }\n",
              "  </style>\n",
              "\n",
              "    <script>\n",
              "      const buttonEl =\n",
              "        document.querySelector('#df-f30e2440-7477-47df-938d-b461b3bb0dd6 button.colab-df-convert');\n",
              "      buttonEl.style.display =\n",
              "        google.colab.kernel.accessAllowed ? 'block' : 'none';\n",
              "\n",
              "      async function convertToInteractive(key) {\n",
              "        const element = document.querySelector('#df-f30e2440-7477-47df-938d-b461b3bb0dd6');\n",
              "        const dataTable =\n",
              "          await google.colab.kernel.invokeFunction('convertToInteractive',\n",
              "                                                    [key], {});\n",
              "        if (!dataTable) return;\n",
              "\n",
              "        const docLinkHtml = 'Like what you see? Visit the ' +\n",
              "          '<a target=\"_blank\" href=https://colab.research.google.com/notebooks/data_table.ipynb>data table notebook</a>'\n",
              "          + ' to learn more about interactive tables.';\n",
              "        element.innerHTML = '';\n",
              "        dataTable['output_type'] = 'display_data';\n",
              "        await google.colab.output.renderOutput(dataTable, element);\n",
              "        const docLink = document.createElement('div');\n",
              "        docLink.innerHTML = docLinkHtml;\n",
              "        element.appendChild(docLink);\n",
              "      }\n",
              "    </script>\n",
              "  </div>\n",
              "\n",
              "\n",
              "<div id=\"df-ef42850d-bdc8-4c15-8926-a0866860ec66\">\n",
              "  <button class=\"colab-df-quickchart\" onclick=\"quickchart('df-ef42850d-bdc8-4c15-8926-a0866860ec66')\"\n",
              "            title=\"Suggest charts.\"\n",
              "            style=\"display:none;\">\n",
              "\n",
              "<svg xmlns=\"http://www.w3.org/2000/svg\" height=\"24px\"viewBox=\"0 0 24 24\"\n",
              "     width=\"24px\">\n",
              "    <g>\n",
              "        <path d=\"M19 3H5c-1.1 0-2 .9-2 2v14c0 1.1.9 2 2 2h14c1.1 0 2-.9 2-2V5c0-1.1-.9-2-2-2zM9 17H7v-7h2v7zm4 0h-2V7h2v10zm4 0h-2v-4h2v4z\"/>\n",
              "    </g>\n",
              "</svg>\n",
              "  </button>\n",
              "\n",
              "<style>\n",
              "  .colab-df-quickchart {\n",
              "      --bg-color: #E8F0FE;\n",
              "      --fill-color: #1967D2;\n",
              "      --hover-bg-color: #E2EBFA;\n",
              "      --hover-fill-color: #174EA6;\n",
              "      --disabled-fill-color: #AAA;\n",
              "      --disabled-bg-color: #DDD;\n",
              "  }\n",
              "\n",
              "  [theme=dark] .colab-df-quickchart {\n",
              "      --bg-color: #3B4455;\n",
              "      --fill-color: #D2E3FC;\n",
              "      --hover-bg-color: #434B5C;\n",
              "      --hover-fill-color: #FFFFFF;\n",
              "      --disabled-bg-color: #3B4455;\n",
              "      --disabled-fill-color: #666;\n",
              "  }\n",
              "\n",
              "  .colab-df-quickchart {\n",
              "    background-color: var(--bg-color);\n",
              "    border: none;\n",
              "    border-radius: 50%;\n",
              "    cursor: pointer;\n",
              "    display: none;\n",
              "    fill: var(--fill-color);\n",
              "    height: 32px;\n",
              "    padding: 0;\n",
              "    width: 32px;\n",
              "  }\n",
              "\n",
              "  .colab-df-quickchart:hover {\n",
              "    background-color: var(--hover-bg-color);\n",
              "    box-shadow: 0 1px 2px rgba(60, 64, 67, 0.3), 0 1px 3px 1px rgba(60, 64, 67, 0.15);\n",
              "    fill: var(--button-hover-fill-color);\n",
              "  }\n",
              "\n",
              "  .colab-df-quickchart-complete:disabled,\n",
              "  .colab-df-quickchart-complete:disabled:hover {\n",
              "    background-color: var(--disabled-bg-color);\n",
              "    fill: var(--disabled-fill-color);\n",
              "    box-shadow: none;\n",
              "  }\n",
              "\n",
              "  .colab-df-spinner {\n",
              "    border: 2px solid var(--fill-color);\n",
              "    border-color: transparent;\n",
              "    border-bottom-color: var(--fill-color);\n",
              "    animation:\n",
              "      spin 1s steps(1) infinite;\n",
              "  }\n",
              "\n",
              "  @keyframes spin {\n",
              "    0% {\n",
              "      border-color: transparent;\n",
              "      border-bottom-color: var(--fill-color);\n",
              "      border-left-color: var(--fill-color);\n",
              "    }\n",
              "    20% {\n",
              "      border-color: transparent;\n",
              "      border-left-color: var(--fill-color);\n",
              "      border-top-color: var(--fill-color);\n",
              "    }\n",
              "    30% {\n",
              "      border-color: transparent;\n",
              "      border-left-color: var(--fill-color);\n",
              "      border-top-color: var(--fill-color);\n",
              "      border-right-color: var(--fill-color);\n",
              "    }\n",
              "    40% {\n",
              "      border-color: transparent;\n",
              "      border-right-color: var(--fill-color);\n",
              "      border-top-color: var(--fill-color);\n",
              "    }\n",
              "    60% {\n",
              "      border-color: transparent;\n",
              "      border-right-color: var(--fill-color);\n",
              "    }\n",
              "    80% {\n",
              "      border-color: transparent;\n",
              "      border-right-color: var(--fill-color);\n",
              "      border-bottom-color: var(--fill-color);\n",
              "    }\n",
              "    90% {\n",
              "      border-color: transparent;\n",
              "      border-bottom-color: var(--fill-color);\n",
              "    }\n",
              "  }\n",
              "</style>\n",
              "\n",
              "  <script>\n",
              "    async function quickchart(key) {\n",
              "      const quickchartButtonEl =\n",
              "        document.querySelector('#' + key + ' button');\n",
              "      quickchartButtonEl.disabled = true;  // To prevent multiple clicks.\n",
              "      quickchartButtonEl.classList.add('colab-df-spinner');\n",
              "      try {\n",
              "        const charts = await google.colab.kernel.invokeFunction(\n",
              "            'suggestCharts', [key], {});\n",
              "      } catch (error) {\n",
              "        console.error('Error during call to suggestCharts:', error);\n",
              "      }\n",
              "      quickchartButtonEl.classList.remove('colab-df-spinner');\n",
              "      quickchartButtonEl.classList.add('colab-df-quickchart-complete');\n",
              "    }\n",
              "    (() => {\n",
              "      let quickchartButtonEl =\n",
              "        document.querySelector('#df-ef42850d-bdc8-4c15-8926-a0866860ec66 button');\n",
              "      quickchartButtonEl.style.display =\n",
              "        google.colab.kernel.accessAllowed ? 'block' : 'none';\n",
              "    })();\n",
              "  </script>\n",
              "</div>\n",
              "    </div>\n",
              "  </div>\n"
            ]
          },
          "metadata": {},
          "execution_count": 48
        }
      ]
    },
    {
      "cell_type": "code",
      "source": [
        "sns.barplot(x=b,y='Dining_Review_Count',data=data)"
      ],
      "metadata": {
        "id": "jT6YqVFtHAmm",
        "colab": {
          "base_uri": "https://localhost:8080/",
          "height": 466
        },
        "outputId": "fe4f3e4f-4a2b-47af-aeed-1ede0a7326af"
      },
      "execution_count": 52,
      "outputs": [
        {
          "output_type": "execute_result",
          "data": {
            "text/plain": [
              "<Axes: xlabel='Restaurant_Name', ylabel='Dining_Review_Count'>"
            ]
          },
          "metadata": {},
          "execution_count": 52
        },
        {
          "output_type": "display_data",
          "data": {
            "text/plain": [
              "<Figure size 640x480 with 1 Axes>"
            ],
            "image/png": "[encoded data removed]"
          },
          "metadata": {}
        }
      ]
    },
    {
      "cell_type": "markdown",
      "source": [
        "Q6.Compare different delivery rating counts of different restaurants.\n",
        "Also tell that which restaurants has got the highest rating counts.\n",
        "Do this by creating a barplot"
      ],
      "metadata": {
        "id": "S0xc-qANHHoj"
      }
    },
    {
      "cell_type": "code",
      "source": [
        "plt.figure(figsize=(6,3))\n",
        "sns.barplot(x='Restaurant_Name',y='Delivery_Rating_Count',data=data)\n",
        "plt.show()"
      ],
      "metadata": {
        "id": "fbQ26HqYIGfC",
        "colab": {
          "base_uri": "https://localhost:8080/",
          "height": 311
        },
        "outputId": "b0cbc62e-2b2b-435f-d9ab-547a80b53de9"
      },
      "execution_count": 50,
      "outputs": [
        {
          "output_type": "display_data",
          "data": {
            "text/plain": [
              "<Figure size 600x300 with 1 Axes>"
            ],
            "image/png": "[encoded data removed]"
          },
          "metadata": {}
        }
      ]
    },
    {
      "cell_type": "code",
      "source": [],
      "metadata": {
        "id": "L8JiWyFIIPes"
      },
      "execution_count": null,
      "outputs": []
    }
  ]
}